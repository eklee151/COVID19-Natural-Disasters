{
 "cells": [
  {
   "cell_type": "markdown",
   "metadata": {},
   "source": [
    "# Putting it all together!"
   ]
  },
  {
   "cell_type": "markdown",
   "metadata": {},
   "source": [
    "Taking the folium work from Eboni and putting it into Flask"
   ]
  },
  {
   "cell_type": "code",
   "execution_count": 1,
   "metadata": {},
   "outputs": [],
   "source": [
    "from flask import Flask\n",
    "from folium.plugins import HeatMap, HeatMapWithTime\n",
    "import pandas as pd\n",
    "import numpy as np\n",
    "import matplotlib.pyplot as plt\n",
    "import seaborn as sns\n",
    "import folium"
   ]
  },
  {
   "cell_type": "code",
   "execution_count": null,
   "metadata": {},
   "outputs": [],
   "source": [
    "full_year = pd.read_csv('./modis-terra-day-full-year (1).csv', index_col = 0)\n",
    "full_year['brightness'] = full_year['brightness'] / full_year['brightness'].sum()\n",
    "full_year['acq_date'] = full_year['acq_date'].sort_values(ascending=True)"
   ]
  },
  {
   "cell_type": "code",
   "execution_count": null,
   "metadata": {},
   "outputs": [],
   "source": [
    "# created a list that groups latitude, longitude and brightness (as the weight) by acquisition date\n",
    "data = []\n",
    "for _, d in full_year.groupby('acq_date'):\n",
    "    data.append([[row['latitude'], row['longitude'], row['brightness']] for _, row in d.iterrows()])\n",
    "# created a time index for heatmap\n",
    "time_index = [k[0] for k in full_year.groupby('acq_date')]"
   ]
  },
  {
   "cell_type": "code",
   "execution_count": null,
   "metadata": {},
   "outputs": [],
   "source": [
    "app = Flask(__name__)"
   ]
  },
  {
   "cell_type": "code",
   "execution_count": null,
   "metadata": {},
   "outputs": [],
   "source": [
    "app = Flask(__name__)\n",
    "\n",
    "@app.route('/')\n",
    "def index():\n",
    "    full_year = pd.read_csv('./modis-terra-day-full-year (1).csv', index_col = 0)\n",
    "    full_year['brightness'] = full_year['brightness'] / full_year['brightness'].sum()\n",
    "    full_year['acq_date'] = full_year['acq_date'].sort_values(ascending=True)\n",
    "    # created a list that groups latitude, longitude and brightness (as the weight) by acquisition date\n",
    "    data = []\n",
    "    for _, d in full_year.groupby('acq_date'):\n",
    "        data.append([[row['latitude'], row['longitude'], row['brightness']] for _, row in d.iterrows()])\n",
    "    # created a time index for heatmap\n",
    "    time_index = [k[0] for k in full_year.groupby('acq_date')]\n"
   ]
  },
  {
   "cell_type": "code",
   "execution_count": null,
   "metadata": {},
   "outputs": [],
   "source": [
    "start_coords = (39.833333, -98.133333)\n",
    "    folium_map = folium.Map(width = 750, height = 500,left = '30%', location=start_coords, zoom_start=4)\n",
    "    hm = HeatMapWithTime(data, index= time_index, name = 'Heat Map', auto_play=True, min_opacity=0.4, radius=5)\n",
    "    hm.add_to(folium_map)"
   ]
  },
  {
   "cell_type": "code",
   "execution_count": null,
   "metadata": {},
   "outputs": [],
   "source": [
    "folium.LayerControl().add_to(folium_map) \n",
    "    return f\"\"\"\n",
    "   <html>\n",
    "       \n",
    "        <body>\n",
    "            <h1> <center> Fires and COVID </center> </h1>\n",
    "            <p1> <center> or some shit iunno </center> </p1>\n",
    "            <p2> <center> i just work here </center> </p2>\n",
    "            <p3>{folium_map._repr_html_()}</p3>\n",
    "            <h2> TEST </h2>\n",
    "        </body>\n",
    "    </html>\n",
    "    \"\"\""
   ]
  },
  {
   "cell_type": "code",
   "execution_count": null,
   "metadata": {},
   "outputs": [],
   "source": [
    "if __name__ == '__main__':\n",
    "    app.run(debug=True)"
   ]
  },
  {
   "cell_type": "code",
   "execution_count": null,
   "metadata": {},
   "outputs": [],
   "source": []
  }
 ],
 "metadata": {
  "kernelspec": {
   "display_name": "Python 3",
   "language": "python",
   "name": "python3"
  },
  "language_info": {
   "codemirror_mode": {
    "name": "ipython",
    "version": 3
   },
   "file_extension": ".py",
   "mimetype": "text/x-python",
   "name": "python",
   "nbconvert_exporter": "python",
   "pygments_lexer": "ipython3",
   "version": "3.8.3"
  }
 },
 "nbformat": 4,
 "nbformat_minor": 4
}
