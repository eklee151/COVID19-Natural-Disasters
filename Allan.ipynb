{
 "cells": [
  {
   "cell_type": "markdown",
   "metadata": {},
   "source": [
    "# Putting it all together!"
   ]
  },
  {
   "cell_type": "markdown",
   "metadata": {},
   "source": [
    "Taking the folium work from Eboni and putting it into Flask"
   ]
  },
  {
   "cell_type": "code",
   "execution_count": 1,
   "metadata": {},
   "outputs": [],
   "source": [
    "from flask import Flask\n",
    "from folium.plugins import HeatMap, HeatMapWithTime\n",
    "import pandas as pd\n",
    "import numpy as np\n",
    "import matplotlib.pyplot as plt\n",
    "import seaborn as sns\n",
    "import folium"
   ]
  },
  {
   "cell_type": "code",
   "execution_count": null,
   "metadata": {},
   "outputs": [],
   "source": [
    "full_year = pd.read_csv('./modis-terra-day-full-year (1).csv', index_col = 0)\n",
    "full_year['brightness'] = full_year['brightness'] / full_year['brightness'].sum()\n",
    "full_year['acq_date'] = full_year['acq_date'].sort_values(ascending=True)"
   ]
  },
  {
   "cell_type": "code",
   "execution_count": null,
   "metadata": {},
   "outputs": [],
   "source": [
    "# created a list that groups latitude, longitude and brightness (as the weight) by acquisition date\n",
    "data = []\n",
    "for _, d in full_year.groupby('acq_date'):\n",
    "    data.append([[row['latitude'], row['longitude'], row['brightness']] for _, row in d.iterrows()])\n",
    "# created a time index for heatmap\n",
    "time_index = [k[0] for k in full_year.groupby('acq_date')]"
   ]
  },
  {
   "cell_type": "code",
   "execution_count": null,
   "metadata": {},
   "outputs": [],
   "source": []
  },
  {
   "cell_type": "code",
   "execution_count": null,
   "metadata": {},
   "outputs": [],
   "source": [
    "app = Flask(__name__)\n",
    "\n",
    "@app.route('/')\n",
    "def index():\n",
    "    \n",
    "    ## Fire Data\n",
    "    full_year = pd.read_csv('./modis-terra-day-full-year (1).csv', index_col = 0)\n",
    "    full_year['brightness'] = full_year['brightness'] / full_year['brightness'].sum()\n",
    "    full_year['acq_date'] = full_year['acq_date'].sort_values(ascending=True)\n",
    "    # created a list that groups latitude, longitude and brightness (as the weight) by acquisition date\n",
    "    data = []\n",
    "    for _, d in full_year.groupby('acq_date'):\n",
    "        data.append([[row['latitude'], row['longitude'], row['brightness']] for _, row in d.iterrows()])\n",
    "    # created a time index for heatmap\n",
    "    time_index = [k[0] for k in full_year.groupby('acq_date')]\n",
    "\n",
    "\n",
    "    ## COVID DATA\n",
    "    url = 'https://raw.githubusercontent.com/python-visualization/folium/master/examples/data'\n",
    "    state_geo = f'{url}/us-states.json'\n",
    "    state_data = pd.read_csv('./covidcast-indicator-combination-confirmed_incidence_num-2020-02-20-to-2020-10-22.csv', index_col=0)\n",
    "    to_drop = state_data[state_data['geo_value'] == 'PR'].index\n",
    "    state_data.drop(to_drop, inplace= True)\n",
    "    state_dict = {state: number for state, number in zip(state_data['geo_value'], range(0, 52))}\n",
    "    state_data['state_id'] = state_data['geo_value'].map(state_dict)\n",
    "    state_data['geo_value'] = [i for i in state_data['geo_value']]\n",
    "    state_data['value'].replace([-16, -46, -140, -8, -613, -1, -28, -31, -26, -398, -41], 0, inplace=True)\n",
    "    bins = np.linspace(min(state_data['value']),max(state_data['value']), 11)\n",
    "    \n",
    "\n",
    "    state_data['color'] = pd.cut(state_data['value'], bins, labels = ['#e1f2f6','#b8d3e3','#b9d2e4','#a1c1db','#b8ccdf','#a4abd0','#9ba2cb','#8e6eb3','#927db8','#9b4395'], include_lowest = False)    \n",
    "    state_data['color'].replace(to_replace = [np.nan], value = ['#EFF5F6'],inplace=True)\n",
    "    state_data_color = state_data[['time_value', 'state_id', 'color']]\n",
    "\n",
    "    state_data_color['state_id'] = state_data_color['state_id'].astype(str)\n",
    "    state_data_color['time_value'] = pd.to_datetime(state_data_color['time_value'])\n",
    "\n",
    "    state_data_color['time_value']=(state_data_color['time_value'].astype(int)// 10**9).astype('U10')\n",
    "    covid_dict={}\n",
    "    for i in state_data_color['state_id'].unique():\n",
    "        covid_dict[i]={}\n",
    "        for j in state_data_color[state_data_color['state_id']==i].set_index(['state_id']).values:   \n",
    "            covid_dict[i][j[0]]={'color':j[1],'opacity':0.8}\n",
    "\n",
    "    state_geojson=gpd.read_file(state_geo)\n",
    "    state_dict = {state.upper(): number for state, number in zip(state_data['geo_value'], range(0, 52))}\n",
    "    state_geojson['state_id']=state_geojson['id'].map(state_dict)\n",
    "    state_geojson.drop(columns=['id', 'name'], inplace=True)\n",
    "\n",
    "    \n",
    "    \n",
    "\n",
    "    start_coords = (39.833333, -98.133333)\n",
    "    folium_map = folium.Map(width = 750, height = 500,left = '30%', location=start_coords, zoom_start=4)\n",
    "    hm = HeatMapWithTime(data, index= time_index, name = 'Heat Map', auto_play=True, min_opacity=0.4, radius=5)\n",
    "    hm.add_to(folium_map)\n",
    "\n",
    "    folium.LayerControl().add_to(folium_map) \n",
    "    return f\"\"\"\n",
    "    <html>\n",
    "       \n",
    "        <body>\n",
    "            <h1> <center> Fires and COVID </center> </h1>\n",
    "            <p1> <center> or some shit iunno </center> </p1>\n",
    "            <p2> <center> i just work here </center> </p2>\n",
    "            <p3>{folium_map._repr_html_()}</p3>\n",
    "            <h2> TEST </h2>\n",
    "        </body>\n",
    "    </html>\n",
    "    \"\"\""
   ]
  },
  {
   "cell_type": "code",
   "execution_count": null,
   "metadata": {},
   "outputs": [],
   "source": [
    "if __name__ == '__main__':\n",
    "    app.run(debug=True)"
   ]
  },
  {
   "cell_type": "code",
   "execution_count": null,
   "metadata": {},
   "outputs": [],
   "source": []
  }
 ],
 "metadata": {
  "kernelspec": {
   "display_name": "Python 3",
   "language": "python",
   "name": "python3"
  },
  "language_info": {
   "codemirror_mode": {
    "name": "ipython",
    "version": 3
   },
   "file_extension": ".py",
   "mimetype": "text/x-python",
   "name": "python",
   "nbconvert_exporter": "python",
   "pygments_lexer": "ipython3",
   "version": "3.8.3"
  }
 },
 "nbformat": 4,
 "nbformat_minor": 4
}
