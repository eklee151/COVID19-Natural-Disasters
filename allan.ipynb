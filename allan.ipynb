{
 "cells": [
  {
   "cell_type": "code",
   "execution_count": 1,
   "metadata": {},
   "outputs": [
    {
     "ename": "ModuleNotFoundError",
     "evalue": "No module named 'geopandas'",
     "output_type": "error",
     "traceback": [
      "\u001b[1;31m---------------------------------------------------------------------------\u001b[0m",
      "\u001b[1;31mModuleNotFoundError\u001b[0m                       Traceback (most recent call last)",
      "\u001b[1;32m<ipython-input-1-76297aae7e39>\u001b[0m in \u001b[0;36m<module>\u001b[1;34m\u001b[0m\n\u001b[0;32m      9\u001b[0m \u001b[1;32mfrom\u001b[0m \u001b[0mbranca\u001b[0m\u001b[1;33m.\u001b[0m\u001b[0melement\u001b[0m \u001b[1;32mimport\u001b[0m \u001b[0mFigure\u001b[0m\u001b[1;33m\u001b[0m\u001b[1;33m\u001b[0m\u001b[0m\n\u001b[0;32m     10\u001b[0m \u001b[1;32mfrom\u001b[0m \u001b[0mbranca\u001b[0m\u001b[1;33m.\u001b[0m\u001b[0mcolormap\u001b[0m \u001b[1;32mimport\u001b[0m \u001b[0mlinear\u001b[0m\u001b[1;33m\u001b[0m\u001b[1;33m\u001b[0m\u001b[0m\n\u001b[1;32m---> 11\u001b[1;33m \u001b[1;32mimport\u001b[0m \u001b[0mgeopandas\u001b[0m \u001b[1;32mas\u001b[0m \u001b[0mgpd\u001b[0m\u001b[1;33m\u001b[0m\u001b[1;33m\u001b[0m\u001b[0m\n\u001b[0m",
      "\u001b[1;31mModuleNotFoundError\u001b[0m: No module named 'geopandas'"
     ]
    }
   ],
   "source": [
    "from flask import Flask\n",
    "from folium.plugins import HeatMap, HeatMapWithTime\n",
    "import pandas as pd\n",
    "import numpy as np\n",
    "import matplotlib.pyplot as plt\n",
    "import seaborn as sns\n",
    "import folium\n",
    "from folium.plugins import TimestampedGeoJson, TimeSliderChoropleth\n",
    "from branca.element import Figure\n",
    "from branca.colormap import linear\n",
    "#import geopandas as gpd"
   ]
  },
  {
   "cell_type": "code",
   "execution_count": 2,
   "metadata": {},
   "outputs": [
    {
     "name": "stdout",
     "output_type": "stream",
     "text": [
      " * Serving Flask app \"__main__\" (lazy loading)\n",
      " * Environment: production\n",
      "   WARNING: This is a development server. Do not use it in a production deployment.\n",
      "   Use a production WSGI server instead.\n",
      " * Debug mode: on\n"
     ]
    },
    {
     "name": "stderr",
     "output_type": "stream",
     "text": [
      " * Restarting with windowsapi reloader\n"
     ]
    },
    {
     "ename": "SystemExit",
     "evalue": "1",
     "output_type": "error",
     "traceback": [
      "An exception has occurred, use %tb to see the full traceback.\n",
      "\u001b[1;31mSystemExit\u001b[0m\u001b[1;31m:\u001b[0m 1\n"
     ]
    },
    {
     "name": "stderr",
     "output_type": "stream",
     "text": [
      "C:\\Users\\eboni\\anaconda3\\lib\\site-packages\\IPython\\core\\interactiveshell.py:3351: UserWarning: To exit: use 'exit', 'quit', or Ctrl-D.\n",
      "  warn(\"To exit: use 'exit', 'quit', or Ctrl-D.\", stacklevel=1)\n"
     ]
    }
   ],
   "source": [
    "app = Flask(__name__)\n",
    "@app.route('/')\n",
    "def index():\n",
    "    ## FIRE DATA\n",
    "    full_year = pd.read_csv('./modis-terra-day-full-year (1).csv', index_col = 0)\n",
    "    full_year['brightness'] = full_year['brightness'] / full_year['brightness'].sum()\n",
    "    # turning acquisition date to datetime so I can easily filter out certain dates\n",
    "    full_year['acq_date'] = pd.to_datetime(full_year['acq_date'])\n",
    "    # since we only have COVID data for our mapping software starting from 2/19/20 and up until 10/20/20 \n",
    "    # then I will filter out those dates from the data I will use for the heat map\n",
    "    full_year = full_year[(full_year['acq_date'] >= '2020-02-19') & (full_year['acq_date'] <= '2020-10-20')]\n",
    "    full_year.groupby('acq_date').count().sort_values(by='brightness', ascending=False).head()\n",
    "    # turning acquisition date back into a string so it's formatted correctly for the heat map\n",
    "    full_year['acq_date'] = full_year['acq_date'].astype(str)\n",
    "    # converted brightness to be on a scale of zero to one (format needed for HeatMapWithTime)\n",
    "    # normalization equation from https://docs.tibco.com/pub/spotfire/7.0.0/doc/html/norm/norm_scale_between_0_and_1.htm\n",
    "    full_year['brightness'] = (full_year['brightness'] - full_year['brightness'].min()) / (full_year['brightness'].max() - full_year['brightness'].min())\n",
    "    # converted frp (fire radiative power) to be on a scale of zero to one (format needed for HeatMapWithTime)\n",
    "    full_year['frp'] = (full_year['frp'] - full_year['frp'].min()) / (full_year['frp'].max() - full_year['frp'].min())\n",
    "    # sorted acq_date\n",
    "    full_year['acq_date'] = full_year['acq_date'].sort_values(ascending=True)\n",
    "    # created a list that groups latitude, longitude and brightness (as the weight) by acquisition date\n",
    "    data_bright = []\n",
    "    for _, d in full_year.groupby('acq_date'):\n",
    "        data_bright.append([[row['latitude'], row['longitude'], row['brightness']] for _, row in d.iterrows()])\n",
    "    # created a time index for heatmap\n",
    "    time_index = [k[0] for k in full_year.groupby('acq_date')]\n",
    "    ## COVID DATA\n",
    "    url = 'https://raw.githubusercontent.com/python-visualization/folium/master/examples/data'\n",
    "    state_geo = f'{url}/us-states.json'\n",
    "    state_data = pd.read_csv('./covidcast-indicator-combination-confirmed_incidence_num-2020-02-20-to-2020-10-22.csv', index_col=0)\n",
    "    to_drop = state_data[state_data['geo_value'] == 'PR'].index\n",
    "    state_data.drop(to_drop, inplace= True)\n",
    "    state_dict = {state: number for state, number in zip(state_data['geo_value'], range(0, 52))}\n",
    "    state_data['state_id'] = state_data['geo_value'].map(state_dict)\n",
    "    state_data['geo_value'] = [i for i in state_data['geo_value']]\n",
    "    state_data['value'].replace([-16, -46, -140, -8, -613, -1, -28, -31, -26, -398, -41], 0, inplace=True)\n",
    "    bins = np.linspace(min(state_data['value']),max(state_data['value']), 11)\n",
    "    state_data['color'] = pd.cut(state_data['value'], bins, labels = ['#e1f2f6','#b8d3e3','#b9d2e4','#a1c1db','#b8ccdf','#a4abd0','#9ba2cb','#8e6eb3','#927db8','#9b4395'], include_lowest = False)    \n",
    "    state_data['color'].replace(to_replace = [np.nan], value = ['#EFF5F6'],inplace=True)\n",
    "    state_data_color = state_data[['time_value', 'state_id', 'color']]\n",
    "    state_data_color['state_id'] = state_data_color['state_id'].astype(str)\n",
    "    state_data_color['time_value'] = pd.to_datetime(state_data_color['time_value'])\n",
    "    state_data_color['time_value']=(state_data_color['time_value'].astype(int)// 10**9).astype('U10')\n",
    "    covid_dict={}\n",
    "    for i in state_data_color['state_id'].unique():\n",
    "        covid_dict[i]={}\n",
    "        for j in state_data_color[state_data_color['state_id']==i].set_index(['state_id']).values:   \n",
    "            covid_dict[i][j[0]]={'color':j[1],'opacity':0.8}\n",
    "    state_geojson=gpd.read_file(state_geo)\n",
    "    state_dict = {state.upper(): number for state, number in zip(state_data['geo_value'], range(0, 52))}\n",
    "    state_geojson['state_id']=state_geojson['id'].map(state_dict)\n",
    "    state_geojson.drop(columns=['id', 'name'], inplace=True)\n",
    "    start_coords = (39.833333, -98.133333)\n",
    "    folium_map = folium.Map(width = 750, height = 500,left = '30%', location=start_coords, zoom_start=4)\n",
    "    hm_bright = HeatMapWithTime(data_bright, index= time_index, name = 'Heat Map', auto_play=False, min_opacity=0.8, radius=5, overlay = True)\n",
    "    TimeSliderChoropleth(\n",
    "    state_geojson.set_index('state_id').to_json(),\n",
    "    styledict=covid_dict, overlay = True,\n",
    "    control = False,\n",
    "    name = 'COVID TimeSlider'\n",
    "    ).add_to(folium_map)\n",
    "    folium.Choropleth(\n",
    "    geo_data=state_geo,\n",
    "    name='choropleth',\n",
    "    data=state_data,\n",
    "    columns=['geo_value', 'value'],\n",
    "    key_on='feature.id',\n",
    "    fill_color='BuPu',\n",
    "    fill_opacity=0.0,\n",
    "    #line_opacity=0.2,\n",
    "    legend_name='COVID-19 Incidence #',\n",
    "    overlay = True\n",
    "    ).add_to(folium_map)\n",
    "    hm_bright.add_to(folium_map)\n",
    "    folium.LayerControl().add_to(folium_map) \n",
    "    # creating a dataframe for June 14th to highlight it\n",
    "    june14 = full_year[full_year['acq_date'] == '2020-06-14']\n",
    "    def lat_long_map(latitude, longitude):\n",
    "        # create a folium map\n",
    "        fire_map = folium.Map(tiles='Stamen Terrain', width = 750, height = 500,left = '30%', location=start_coords, zoom_start=4)\n",
    "        # add fire markers\n",
    "        for lat, long in zip(latitude, longitude):\n",
    "            folium.Marker(location=[lat, long], icon=folium.Icon(icon='fire', color='red'), tooltip=[lat, long]).add_to(fire_map)\n",
    "        return fire_map\n",
    "    m2 = lat_long_map(june14['latitude'], june14['longitude'])\n",
    "    return f\"\"\"\n",
    "   <html>\n",
    "        <body>\n",
    "            <h1> <center> Fires and COVID </center> </h1>\n",
    "            <p1> <center> Interactive Time Slider </center> </p1>\n",
    "            <p2> <center> blue markers represent fires and heat anomalies in the continental USA </center> </p2>\n",
    "            <p3>{folium_map._repr_html_()}</p3>\n",
    "            <p4>{m2._repr_html_()}</p4>\n",
    "            <h2>  Thank you for visiting our app! </h2>\n",
    "        </body>\n",
    "    </html>\n",
    "    \"\"\"\n",
    "if __name__ == '__main__':\n",
    "    app.run(debug=True)"
   ]
  },
  {
   "cell_type": "code",
   "execution_count": null,
   "metadata": {},
   "outputs": [],
   "source": []
  }
 ],
 "metadata": {
  "kernelspec": {
   "display_name": "Python 3",
   "language": "python",
   "name": "python3"
  },
  "language_info": {
   "codemirror_mode": {
    "name": "ipython",
    "version": 3
   },
   "file_extension": ".py",
   "mimetype": "text/x-python",
   "name": "python",
   "nbconvert_exporter": "python",
   "pygments_lexer": "ipython3",
   "version": "3.8.3"
  }
 },
 "nbformat": 4,
 "nbformat_minor": 4
}
